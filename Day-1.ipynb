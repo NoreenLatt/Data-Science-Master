{
 "cells": [
  {
   "cell_type": "code",
   "execution_count": 3,
   "id": "aef51a4c-81df-42b9-8966-36cb160d367a",
   "metadata": {},
   "outputs": [],
   "source": [
    "a = 10"
   ]
  },
  {
   "cell_type": "code",
   "execution_count": 4,
   "id": "a2e11e4e-154c-4b4c-b6fe-cd0787f64376",
   "metadata": {},
   "outputs": [
    {
     "data": {
      "text/plain": [
       "10"
      ]
     },
     "execution_count": 4,
     "metadata": {},
     "output_type": "execute_result"
    }
   ],
   "source": [
    "a"
   ]
  },
  {
   "cell_type": "code",
   "execution_count": 6,
   "id": "3f9372fc-9731-4d80-910f-f7a2ab12ff6a",
   "metadata": {},
   "outputs": [
    {
     "name": "stdout",
     "output_type": "stream",
     "text": [
      "20\n"
     ]
    }
   ],
   "source": [
    "## This is the intro session\n",
    "# single # or double # is for single line comment\n",
    "a = 20\n",
    "print(a)"
   ]
  },
  {
   "cell_type": "code",
   "execution_count": 5,
   "id": "bf87e442-41bd-4ec2-808f-23a1adf76eff",
   "metadata": {},
   "outputs": [
    {
     "data": {
      "text/plain": [
       "2"
      ]
     },
     "execution_count": 5,
     "metadata": {},
     "output_type": "execute_result"
    }
   ],
   "source": [
    "1+1"
   ]
  },
  {
   "cell_type": "code",
   "execution_count": null,
   "id": "e87d0f96-c3a1-4282-aa29-dc848743b5d8",
   "metadata": {},
   "outputs": [],
   "source": [
    "\"\"\"\n",
    "multi line comment\n",
    "\"\"\""
   ]
  },
  {
   "cell_type": "markdown",
   "id": "8b7e5b54-b85b-4458-bed9-e6e7e5be068b",
   "metadata": {},
   "source": [
    "## Markdown is for title\n"
   ]
  },
  {
   "cell_type": "markdown",
   "id": "7c8c1d51-b9b3-4246-9a81-bfc45eace7ff",
   "metadata": {},
   "source": [
    "Number"
   ]
  },
  {
   "cell_type": "code",
   "execution_count": 7,
   "id": "3cabe306-9df6-4ede-b236-a7736abb3e46",
   "metadata": {},
   "outputs": [
    {
     "data": {
      "text/plain": [
       "4"
      ]
     },
     "execution_count": 7,
     "metadata": {},
     "output_type": "execute_result"
    }
   ],
   "source": [
    "1+3"
   ]
  },
  {
   "cell_type": "code",
   "execution_count": 8,
   "id": "5b962514-73ba-433d-8f4a-9a436b04bdd1",
   "metadata": {},
   "outputs": [
    {
     "name": "stdout",
     "output_type": "stream",
     "text": [
      "4\n"
     ]
    }
   ],
   "source": [
    "a=1+3\n",
    "print(a)"
   ]
  },
  {
   "cell_type": "code",
   "execution_count": 9,
   "id": "62247169-05b9-4c60-817a-c74932b7f16f",
   "metadata": {},
   "outputs": [
    {
     "name": "stdout",
     "output_type": "stream",
     "text": [
      "this is a testing for new line \n",
      " it will go next line\n"
     ]
    }
   ],
   "source": [
    "print(\"this is a testing for new line \\n it will go next line\") "
   ]
  },
  {
   "cell_type": "markdown",
   "id": "b02a19fa-8f7f-42bb-af8e-f4ef6020d2bc",
   "metadata": {},
   "source": [
    "## Variable assignment"
   ]
  },
  {
   "cell_type": "code",
   "execution_count": 10,
   "id": "f14581ef-7187-41b1-b263-6d43869a9a83",
   "metadata": {},
   "outputs": [
    {
     "data": {
      "text/plain": [
       "'Noreen'"
      ]
     },
     "execution_count": 10,
     "metadata": {},
     "output_type": "execute_result"
    }
   ],
   "source": [
    "name = \"Noreen\"\n",
    "company = \"PW Skill\"\n",
    "name"
   ]
  },
  {
   "cell_type": "code",
   "execution_count": 14,
   "id": "040d68e0-b3aa-477f-8efa-3c27b97558b4",
   "metadata": {},
   "outputs": [
    {
     "data": {
      "text/plain": [
       "10"
      ]
     },
     "execution_count": 14,
     "metadata": {},
     "output_type": "execute_result"
    }
   ],
   "source": [
    "number = 10\n",
    "number"
   ]
  },
  {
   "cell_type": "code",
   "execution_count": 17,
   "id": "717e75ec-b365-4c4b-8302-d3fe3471877e",
   "metadata": {},
   "outputs": [
    {
     "data": {
      "text/plain": [
       "int"
      ]
     },
     "execution_count": 17,
     "metadata": {},
     "output_type": "execute_result"
    }
   ],
   "source": [
    "type(\"\")\n",
    "type(name)\n",
    "type(number)"
   ]
  },
  {
   "cell_type": "code",
   "execution_count": 18,
   "id": "4de32ec7-aac6-4911-9729-fe126d0ebca3",
   "metadata": {},
   "outputs": [
    {
     "data": {
      "text/plain": [
       "2.5"
      ]
     },
     "execution_count": 18,
     "metadata": {},
     "output_type": "execute_result"
    }
   ],
   "source": [
    "decimal_num = 2.5\n",
    "decimal_num\n"
   ]
  },
  {
   "cell_type": "code",
   "execution_count": 19,
   "id": "d0c3ccab-61bc-4c4e-a8af-ea52a4b1f6db",
   "metadata": {},
   "outputs": [
    {
     "data": {
      "text/plain": [
       "float"
      ]
     },
     "execution_count": 19,
     "metadata": {},
     "output_type": "execute_result"
    }
   ],
   "source": [
    "type(decimal_num)"
   ]
  },
  {
   "cell_type": "code",
   "execution_count": 20,
   "id": "30ebaff2-ffa7-43e9-b60b-262de40ddbd6",
   "metadata": {},
   "outputs": [
    {
     "data": {
      "text/plain": [
       "complex"
      ]
     },
     "execution_count": 20,
     "metadata": {},
     "output_type": "execute_result"
    }
   ],
   "source": [
    "type(1+2j)"
   ]
  },
  {
   "cell_type": "code",
   "execution_count": 22,
   "id": "b1168e69-2041-466b-b910-849b8253387c",
   "metadata": {},
   "outputs": [
    {
     "name": "stdout",
     "output_type": "stream",
     "text": [
      "ineron\n",
      "PW Skill\n"
     ]
    }
   ],
   "source": [
    "## Variable are case sensitive\n",
    "company = \"ineron\"\n",
    "Company = \"PW Skill\"\n",
    "print(company)\n",
    "print(Company)"
   ]
  },
  {
   "cell_type": "code",
   "execution_count": null,
   "id": "9517b52d-982a-47f0-b049-a31af60a7311",
   "metadata": {},
   "outputs": [],
   "source": [
    "## Boolean\n",
    "True\n",
    "False"
   ]
  },
  {
   "cell_type": "code",
   "execution_count": 23,
   "id": "3be1301d-4dca-45b4-aef9-4564c780825c",
   "metadata": {},
   "outputs": [
    {
     "data": {
      "text/plain": [
       "False"
      ]
     },
     "execution_count": 23,
     "metadata": {},
     "output_type": "execute_result"
    }
   ],
   "source": [
    "True and False"
   ]
  },
  {
   "cell_type": "code",
   "execution_count": 24,
   "id": "77910bc3-b6c7-46d3-bf8e-ccc0ec685970",
   "metadata": {},
   "outputs": [
    {
     "data": {
      "text/plain": [
       "True"
      ]
     },
     "execution_count": 24,
     "metadata": {},
     "output_type": "execute_result"
    }
   ],
   "source": [
    "True or False"
   ]
  },
  {
   "cell_type": "code",
   "execution_count": 25,
   "id": "58e76f1d-2db6-4927-b545-eeff44cba801",
   "metadata": {},
   "outputs": [
    {
     "data": {
      "text/plain": [
       "False"
      ]
     },
     "execution_count": 25,
     "metadata": {},
     "output_type": "execute_result"
    }
   ],
   "source": [
    "not True"
   ]
  },
  {
   "cell_type": "code",
   "execution_count": 26,
   "id": "0ad58d7e-8d0b-4d59-b850-9f870df20058",
   "metadata": {},
   "outputs": [
    {
     "data": {
      "text/plain": [
       "False"
      ]
     },
     "execution_count": 26,
     "metadata": {},
     "output_type": "execute_result"
    }
   ],
   "source": [
    "bool(0)"
   ]
  },
  {
   "cell_type": "code",
   "execution_count": 27,
   "id": "68cff27f-f4d5-47a6-a54b-31e527766e9f",
   "metadata": {},
   "outputs": [
    {
     "data": {
      "text/plain": [
       "True"
      ]
     },
     "execution_count": 27,
     "metadata": {},
     "output_type": "execute_result"
    }
   ],
   "source": [
    "bool(1)"
   ]
  },
  {
   "cell_type": "code",
   "execution_count": 28,
   "id": "447b5eea-4ed6-43aa-90b6-96404660e19f",
   "metadata": {},
   "outputs": [
    {
     "name": "stdout",
     "output_type": "stream",
     "text": [
      "True\n"
     ]
    }
   ],
   "source": [
    "a = 1\n",
    "if bool(a) == True:\n",
    "    print(\"True\")"
   ]
  },
  {
   "cell_type": "code",
   "execution_count": 29,
   "id": "2e2a1f72-c2e2-435e-8860-99b9d7a8b2c1",
   "metadata": {},
   "outputs": [
    {
     "data": {
      "text/plain": [
       "'23'"
      ]
     },
     "execution_count": 29,
     "metadata": {},
     "output_type": "execute_result"
    }
   ],
   "source": [
    "## change number to string\n",
    "str(23)"
   ]
  },
  {
   "cell_type": "code",
   "execution_count": 30,
   "id": "f73c783e-39e3-46f6-bfa0-35fa8ccfd9bf",
   "metadata": {},
   "outputs": [
    {
     "data": {
      "text/plain": [
       "23"
      ]
     },
     "execution_count": 30,
     "metadata": {},
     "output_type": "execute_result"
    }
   ],
   "source": [
    "int(\"23\")"
   ]
  },
  {
   "cell_type": "markdown",
   "id": "44a87593-1c38-4e7b-82e4-f1ccbe63fd6a",
   "metadata": {},
   "source": [
    "Dynamic typing"
   ]
  },
  {
   "cell_type": "code",
   "execution_count": 31,
   "id": "afcbf335-4de0-4314-bed2-27dbe42386b3",
   "metadata": {},
   "outputs": [
    {
     "data": {
      "text/plain": [
       "1"
      ]
     },
     "execution_count": 31,
     "metadata": {},
     "output_type": "execute_result"
    }
   ],
   "source": [
    "## runtime complier will understand this is integer\n",
    "a = 23\n"
   ]
  },
  {
   "cell_type": "code",
   "execution_count": 32,
   "id": "d05a13a8-9e9a-49ba-b174-c82e68c6fdc9",
   "metadata": {},
   "outputs": [
    {
     "data": {
      "text/plain": [
       "'11'"
      ]
     },
     "execution_count": 32,
     "metadata": {},
     "output_type": "execute_result"
    }
   ],
   "source": [
    "## concatination between types\n",
    "\"1\" + \"1\""
   ]
  },
  {
   "cell_type": "code",
   "execution_count": 33,
   "id": "39f2be36-f8f9-45e6-9911-7c79694af93d",
   "metadata": {},
   "outputs": [
    {
     "data": {
      "text/plain": [
       "'1111111111111111111111111111111111111111111111111111111111111111111111111111111111111111111111111111'"
      ]
     },
     "execution_count": 33,
     "metadata": {},
     "output_type": "execute_result"
    }
   ],
   "source": [
    "\"1\" * 100"
   ]
  },
  {
   "cell_type": "code",
   "execution_count": null,
   "id": "add9bc12-9cac-41c7-80f7-c9b8705fdd00",
   "metadata": {},
   "outputs": [],
   "source": []
  }
 ],
 "metadata": {
  "kernelspec": {
   "display_name": "Python 3 (ipykernel)",
   "language": "python",
   "name": "python3"
  },
  "language_info": {
   "codemirror_mode": {
    "name": "ipython",
    "version": 3
   },
   "file_extension": ".py",
   "mimetype": "text/x-python",
   "name": "python",
   "nbconvert_exporter": "python",
   "pygments_lexer": "ipython3",
   "version": "3.10.8"
  }
 },
 "nbformat": 4,
 "nbformat_minor": 5
}
